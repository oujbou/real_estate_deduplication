{
 "cells": [
  {
   "cell_type": "code",
   "execution_count": 26,
   "id": "2e4eeba5",
   "metadata": {},
   "outputs": [],
   "source": [
    "import pandas as pd\n",
    "import numpy as np\n",
    "import matplotlib.pyplot as plt\n",
    "import seaborn as sns\n",
    "import plotly.express as px\n",
    "import plotly.graph_objects as go\n",
    "from plotly.subplots import make_subplots\n",
    "import warnings\n",
    "import sys\n",
    "from pathlib import Path\n",
    "import glob\n",
    "from collections import Counter, defaultdict\n",
    "import networkx as nx\n",
    "from sklearn.feature_extraction.text import TfidfVectorizer\n",
    "from wordcloud import WordCloud\n",
    "import re\n",
    "from pathlib import Path\n",
    "\n",
    "# Configuration\n",
    "warnings.filterwarnings('ignore')\n",
    "plt.style.use('seaborn-v0_8')\n",
    "sns.set_palette(\"husl\")\n",
    "\n",
    "# Add src to path\n",
    "sys.path.append('../src')\n",
    "from config import config"
   ]
  },
  {
   "cell_type": "code",
   "execution_count": 30,
   "id": "6a4c4ca2",
   "metadata": {},
   "outputs": [
    {
     "ename": "AttributeError",
     "evalue": "'ProjectConfig' object has no attribute 'listing_path'",
     "output_type": "error",
     "traceback": [
      "\u001b[31m---------------------------------------------------------------------------\u001b[39m",
      "\u001b[31mAttributeError\u001b[39m                            Traceback (most recent call last)",
      "\u001b[36mCell\u001b[39m\u001b[36m \u001b[39m\u001b[32mIn[30]\u001b[39m\u001b[32m, line 2\u001b[39m\n\u001b[32m      1\u001b[39m \u001b[38;5;28;01mtry\u001b[39;00m:\n\u001b[32m----> \u001b[39m\u001b[32m2\u001b[39m     listing_df = pd.read_csv(\u001b[43mconfig\u001b[49m\u001b[43m.\u001b[49m\u001b[43mlisting_path\u001b[49m)\n\u001b[32m      3\u001b[39m     \u001b[38;5;28mprint\u001b[39m(\u001b[33mf\u001b[39m\u001b[33m\"\u001b[39m\u001b[33mListings loaded: \u001b[39m\u001b[38;5;132;01m{\u001b[39;00m\u001b[38;5;28mlen\u001b[39m(listing_df)\u001b[38;5;132;01m:\u001b[39;00m\u001b[33m,\u001b[39m\u001b[38;5;132;01m}\u001b[39;00m\u001b[33m rows\u001b[39m\u001b[33m\"\u001b[39m)\n\u001b[32m      4\u001b[39m \u001b[38;5;28;01mexcept\u001b[39;00m \u001b[38;5;167;01mFileNotFoundError\u001b[39;00m:\n",
      "\u001b[31mAttributeError\u001b[39m: 'ProjectConfig' object has no attribute 'listing_path'"
     ]
    }
   ],
   "source": [
    "try:\n",
    "    listing_df = pd.read_csv(config.listing_path)\n",
    "    print(f\"Listings loaded: {len(listing_df):,} rows\")\n",
    "except FileNotFoundError:\n",
    "    print(\"listings.csv not found. Please ensure dataset is in data/ folder\")\n",
    "    listings_df = None\n",
    "\n",
    "try:\n",
    "    duplicates_df = pd.read_csv(config.duplicates_path)\n",
    "    print(f\"Duplicates loaded: {len(duplicates_df):,} pairs\")\n",
    "except FileNotFoundError:\n",
    "    print(\"duplicate_listing.csv not found. Please ensure dataset is in data/ folder\")\n",
    "    duplicates_df = None\n",
    "\n",
    "# Check for pictures directory\n",
    "pictures_path = config.pictures_path\n",
    "if pictures_path.exists():\n",
    "    image_files = list(pictures_path.glob(\"*.*\"))\n",
    "    print(f\"Pictures directory found: {len(image_files):,} images\")\n",
    "else:\n",
    "    print(\"Pictures directory not found\")\n",
    "    image_files = []"
   ]
  },
  {
   "cell_type": "code",
   "execution_count": null,
   "id": "0cb7a439",
   "metadata": {},
   "outputs": [],
   "source": []
  }
 ],
 "metadata": {
  "kernelspec": {
   "display_name": "real_estate_ml",
   "language": "python",
   "name": "python3"
  },
  "language_info": {
   "codemirror_mode": {
    "name": "ipython",
    "version": 3
   },
   "file_extension": ".py",
   "mimetype": "text/x-python",
   "name": "python",
   "nbconvert_exporter": "python",
   "pygments_lexer": "ipython3",
   "version": "3.11.12"
  }
 },
 "nbformat": 4,
 "nbformat_minor": 5
}
