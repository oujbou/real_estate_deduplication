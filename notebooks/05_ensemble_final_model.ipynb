{
 "cells": [
  {
   "cell_type": "code",
   "execution_count": 1,
   "id": "a613c978",
   "metadata": {},
   "outputs": [],
   "source": [
    "import sys\n",
    "from pathlib import Path\n",
    "sys.path.append('../src')\n",
    "\n",
    "import pandas as pd\n",
    "import numpy as np\n",
    "import matplotlib.pyplot as plt\n",
    "import seaborn as sns\n",
    "from sklearn.metrics import classification_report, confusion_matrix, roc_auc_score\n",
    "from sklearn.metrics import precision_score, recall_score, f1_score, accuracy_score\n",
    "from sklearn.linear_model import LogisticRegression\n",
    "from sklearn.ensemble import RandomForestClassifier\n",
    "import xgboost as xgb\n",
    "from sklearn.model_selection import cross_val_score, StratifiedKFold\n",
    "import joblib\n",
    "import warnings\n",
    "warnings.filterwarnings('ignore')\n",
    "\n",
    "from config import config"
   ]
  },
  {
   "cell_type": "code",
   "execution_count": 2,
   "id": "aa57749b",
   "metadata": {},
   "outputs": [
    {
     "name": "stdout",
     "output_type": "stream",
     "text": [
      "Loading individual model results...\n",
      "Structured model results loaded\n",
      "Text model results loaded\n",
      "Image model results loaded\n"
     ]
    }
   ],
   "source": [
    "# Load individual model results\n",
    "print(\"Loading individual model results...\")\n",
    "\n",
    "try:\n",
    "    structured_results = joblib.load(\"../models/structured_results.pkl\")\n",
    "    print(\"Structured model results loaded\")\n",
    "except:\n",
    "    print(\"Structured results not found\")\n",
    "    structured_results = None\n",
    "\n",
    "try:\n",
    "    text_results = joblib.load(\"../models/text_results.pkl\")\n",
    "    print(\"Text model results loaded\")\n",
    "except:\n",
    "    print(\"Text results not found\") \n",
    "    text_results = None\n",
    "\n",
    "try:\n",
    "    image_results = joblib.load(\"../models/image_results.pkl\")\n",
    "    print(\"Image model results loaded\")\n",
    "except:\n",
    "    print(\"Image results not found\")\n",
    "    image_results = None\n"
   ]
  },
  {
   "cell_type": "code",
   "execution_count": 3,
   "id": "0d9ae19e",
   "metadata": {},
   "outputs": [
    {
     "name": "stdout",
     "output_type": "stream",
     "text": [
      "\n",
      "Dataset info:\n",
      "   Training samples: 6677\n",
      "   Test samples: 1563\n",
      "   Positive rate: 0.203\n"
     ]
    }
   ],
   "source": [
    "# Load actual labels for evaluation\n",
    "structured_data = np.load(\"../models/structured_features.npz\")\n",
    "y_train = structured_data['y_train']\n",
    "y_test = structured_data['y_test']\n",
    "\n",
    "print(f\"\\nDataset info:\")\n",
    "print(f\"   Training samples: {len(y_train)}\")\n",
    "print(f\"   Test samples: {len(y_test)}\")\n",
    "print(f\"   Positive rate: {y_test.mean():.3f}\")"
   ]
  },
  {
   "cell_type": "code",
   "execution_count": 4,
   "id": "9a69c4d2",
   "metadata": {},
   "outputs": [
    {
     "name": "stdout",
     "output_type": "stream",
     "text": [
      "\n",
      "STRUCTURED MODEL:\n",
      "   F1: 0.9723\n",
      "   Precision: 0.9518\n",
      "\n",
      "TEXT MODEL:\n",
      "   F1: 0.8788\n",
      "   Precision: 0.9457\n",
      "\n",
      "IMAGE MODEL:\n",
      "   F1: 0.8448\n",
      "   Precision: 0.9915\n",
      "\n",
      "ENSEMBLE FEATURES:\n",
      "   Available modalities: 3\n",
      "   Feature names: ['structured_proba', 'text_similarity', 'image_similarity']\n"
     ]
    }
   ],
   "source": [
    "# Collect all available predictions for ensemble\n",
    "ensemble_features_train = []\n",
    "ensemble_features_test = []\n",
    "feature_names = []\n",
    "\n",
    "if structured_results:\n",
    "    print(f\"\\nSTRUCTURED MODEL:\")\n",
    "    print(f\"   F1: {structured_results['metrics']['f1']:.4f}\")\n",
    "    print(f\"   Precision: {structured_results['metrics']['precision']:.4f}\")\n",
    "    \n",
    "    ensemble_features_train.append(structured_results['train_predictions'])\n",
    "    ensemble_features_test.append(structured_results['test_predictions'])\n",
    "    feature_names.append('structured_proba')\n",
    "\n",
    "if text_results:\n",
    "    print(f\"\\nTEXT MODEL:\")\n",
    "    print(f\"   F1: {text_results['metrics']['f1']:.4f}\")\n",
    "    print(f\"   Precision: {text_results['metrics']['precision']:.4f}\")\n",
    "    \n",
    "    ensemble_features_train.append(text_results['train_similarities'])\n",
    "    ensemble_features_test.append(text_results['test_similarities'])\n",
    "    feature_names.append('text_similarity')\n",
    "\n",
    "if image_results:\n",
    "    print(f\"\\nIMAGE MODEL:\")\n",
    "    print(f\"   F1: {image_results['metrics']['f1']:.4f}\")\n",
    "    print(f\"   Precision: {image_results['metrics']['precision']:.4f}\")\n",
    "    \n",
    "    ensemble_features_train.append(image_results['train_similarities'])\n",
    "    ensemble_features_test.append(image_results['test_similarities'])\n",
    "    feature_names.append('image_similarity')\n",
    "\n",
    "print(f\"\\nENSEMBLE FEATURES:\")\n",
    "print(f\"   Available modalities: {len(ensemble_features_train)}\")\n",
    "print(f\"   Feature names: {feature_names}\")\n",
    "\n",
    "if len(ensemble_features_train) == 0:\n",
    "    print(\"No model results found! Please run individual model training first.\")\n",
    "    exit()"
   ]
  },
  {
   "cell_type": "code",
   "execution_count": 5,
   "id": "b3735c7b",
   "metadata": {},
   "outputs": [
    {
     "name": "stdout",
     "output_type": "stream",
     "text": [
      "   Ensemble training shape: (6677, 3)\n",
      "   Ensemble test shape: (1563, 3)\n"
     ]
    }
   ],
   "source": [
    "# Create ensemble feature matrix\n",
    "X_ensemble_train = np.column_stack(ensemble_features_train)\n",
    "X_ensemble_test = np.column_stack(ensemble_features_test)\n",
    "\n",
    "print(f\"   Ensemble training shape: {X_ensemble_train.shape}\")\n",
    "print(f\"   Ensemble test shape: {X_ensemble_test.shape}\")\n",
    "\n",
    "# Simple weighted average ensemble (baseline)\n",
    "def weighted_ensemble(predictions, weights=None):\n",
    "    \"\"\"Simple weighted average of predictions\"\"\"\n",
    "    if weights is None:\n",
    "        weights = np.ones(len(predictions)) / len(predictions)\n",
    "    \n",
    "    ensemble_pred = np.zeros_like(predictions[0])\n",
    "    for i, pred in enumerate(predictions):\n",
    "        ensemble_pred += weights[i] * pred\n",
    "    return ensemble_pred\n",
    "\n"
   ]
  },
  {
   "cell_type": "code",
   "execution_count": 6,
   "id": "5ffe04c2",
   "metadata": {},
   "outputs": [
    {
     "name": "stdout",
     "output_type": "stream",
     "text": [
      "\n",
      " TESTING ENSEMBLE COMBINATIONS:\n",
      "   Weights [0.33, 0.33, 0.34]: F1=0.8592, Prec=0.9918 Good\n",
      "   Weights [0.5, 0.3, 0.2]: F1=0.9246, Prec=0.9658 Good\n",
      "   Weights [0.6, 0.25, 0.15]: F1=0.9442, Prec=0.9579 Good\n",
      "\n",
      "BEST ENSEMBLE COMBINATION:\n",
      "   Weights: [0.6, 0.25, 0.15]\n",
      "   Threshold: 0.400\n",
      "   F1 Score: 0.9442\n"
     ]
    }
   ],
   "source": [
    "# Try different weight combinations\n",
    "weight_combinations = [\n",
    "    [1.0],  # Only structured (if available)\n",
    "    [0.5, 0.5],  # Equal weights (if 2 models)\n",
    "    [0.6, 0.4],  # Favor first model\n",
    "    [0.7, 0.3],  # Strong favor first model\n",
    "    [0.33, 0.33, 0.34],  # Equal three models\n",
    "    [0.5, 0.3, 0.2],  # Structured > Text > Image\n",
    "    [0.6, 0.25, 0.15],  # Strong structured preference\n",
    "]\n",
    "\n",
    "print(f\"\\n TESTING ENSEMBLE COMBINATIONS:\")\n",
    "best_f1 = 0\n",
    "best_weights = None\n",
    "best_predictions = None\n",
    "weight_results = []\n",
    "\n",
    "for weights in weight_combinations:\n",
    "    if len(weights) != len(ensemble_features_test):\n",
    "        continue\n",
    "    \n",
    "    # Create ensemble predictions\n",
    "    ensemble_pred_proba = weighted_ensemble(ensemble_features_test, weights)\n",
    "    \n",
    "    # Find optimal threshold\n",
    "    thresholds = np.arange(0.1, 0.9, 0.05)\n",
    "    best_threshold_f1 = 0\n",
    "    best_threshold = 0.5\n",
    "    \n",
    "    for threshold in thresholds:\n",
    "        y_pred = (ensemble_pred_proba >= threshold).astype(int)\n",
    "        if len(np.unique(y_pred)) > 1:\n",
    "            f1 = f1_score(y_test, y_pred)\n",
    "            if f1 > best_threshold_f1:\n",
    "                best_threshold_f1 = f1\n",
    "                best_threshold = threshold\n",
    "    \n",
    "    # Evaluate with best threshold\n",
    "    y_pred_final = (ensemble_pred_proba >= best_threshold).astype(int)\n",
    "    \n",
    "    accuracy = accuracy_score(y_test, y_pred_final)\n",
    "    precision = precision_score(y_test, y_pred_final)\n",
    "    recall = recall_score(y_test, y_pred_final)\n",
    "    f1 = f1_score(y_test, y_pred_final)\n",
    "    \n",
    "    weight_results.append({\n",
    "        'weights': weights,\n",
    "        'threshold': best_threshold,\n",
    "        'accuracy': accuracy,\n",
    "        'precision': precision,\n",
    "        'recall': recall,\n",
    "        'f1': f1,\n",
    "        'predictions_proba': ensemble_pred_proba\n",
    "    })\n",
    "    \n",
    "    meets_precision = precision >= 0.85\n",
    "    meets_f1 = f1 >= 0.80\n",
    "    \n",
    "    print(f\"   Weights {weights}: F1={f1:.4f}, Prec={precision:.4f} {'Good' if meets_precision and meets_f1 else 'Not good'}\")\n",
    "    \n",
    "    # Track best performing combination\n",
    "    if f1 > best_f1:\n",
    "        best_f1 = f1\n",
    "        best_weights = weights\n",
    "        best_predictions = ensemble_pred_proba\n",
    "        best_threshold_global = best_threshold\n",
    "\n",
    "print(f\"\\nBEST ENSEMBLE COMBINATION:\")\n",
    "print(f\"   Weights: {best_weights}\")\n",
    "print(f\"   Threshold: {best_threshold_global:.3f}\")\n",
    "print(f\"   F1 Score: {best_f1:.4f}\")\n"
   ]
  },
  {
   "cell_type": "code",
   "execution_count": 7,
   "id": "3e23a94c",
   "metadata": {},
   "outputs": [
    {
     "name": "stdout",
     "output_type": "stream",
     "text": [
      "   Accuracy: 0.9776\n",
      "   Precision: 0.9579 Good\n",
      "   Recall: 0.9308\n",
      "   F1-Score: 0.9442 Good\n"
     ]
    }
   ],
   "source": [
    "# Get best result details\n",
    "best_result = next(r for r in weight_results if r['f1'] == best_f1)\n",
    "print(f\"   Accuracy: {best_result['accuracy']:.4f}\")\n",
    "print(f\"   Precision: {best_result['precision']:.4f} {'Good' if best_result['precision'] >= 0.85 else 'Not good'}\")\n",
    "print(f\"   Recall: {best_result['recall']:.4f}\")\n",
    "print(f\"   F1-Score: {best_result['f1']:.4f} {'Good' if best_result['f1'] >= 0.80 else 'Not good'}\")"
   ]
  },
  {
   "cell_type": "code",
   "execution_count": 8,
   "id": "c026ac0d",
   "metadata": {},
   "outputs": [
    {
     "name": "stdout",
     "output_type": "stream",
     "text": [
      "\n",
      "🤖 TRAINING META-CLASSIFIER:\n",
      "   LogisticRegression: F1=0.9768, Prec=0.9605 Good\n",
      "   RandomForest: F1=0.9798, Prec=0.9664 Good\n",
      "   XGBoost: F1=0.9752, Prec=0.9632 Good\n"
     ]
    }
   ],
   "source": [
    "# Advanced ensemble: Train meta-classifier\n",
    "print(f\"\\n🤖 TRAINING META-CLASSIFIER:\")\n",
    "\n",
    "meta_classifiers = {\n",
    "    'LogisticRegression': LogisticRegression(random_state=config.random_state, max_iter=1000),\n",
    "    'RandomForest': RandomForestClassifier(n_estimators=100, random_state=config.random_state),\n",
    "    'XGBoost': xgb.XGBClassifier(random_state=config.random_state, eval_metric='logloss')\n",
    "}\n",
    "\n",
    "best_meta_model = None\n",
    "best_meta_f1 = 0\n",
    "meta_results = {}\n",
    "\n",
    "for name, model in meta_classifiers.items():\n",
    "    try:\n",
    "        # Train meta-classifier\n",
    "        model.fit(X_ensemble_train, y_train)\n",
    "        \n",
    "        # Predict on test set\n",
    "        y_pred_proba = model.predict_proba(X_ensemble_test)[:, 1]\n",
    "        \n",
    "        # Optimize threshold\n",
    "        thresholds = np.arange(0.1, 0.9, 0.05)\n",
    "        best_threshold_f1 = 0\n",
    "        best_threshold = 0.5\n",
    "        \n",
    "        for threshold in thresholds:\n",
    "            y_pred = (y_pred_proba >= threshold).astype(int)\n",
    "            if len(np.unique(y_pred)) > 1:\n",
    "                f1 = f1_score(y_test, y_pred)\n",
    "                if f1 > best_threshold_f1:\n",
    "                    best_threshold_f1 = f1\n",
    "                    best_threshold = threshold\n",
    "        \n",
    "        # Final evaluation\n",
    "        y_pred_final = (y_pred_proba >= best_threshold).astype(int)\n",
    "        \n",
    "        accuracy = accuracy_score(y_test, y_pred_final)\n",
    "        precision = precision_score(y_test, y_pred_final)\n",
    "        recall = recall_score(y_test, y_pred_final)\n",
    "        f1 = f1_score(y_test, y_pred_final)\n",
    "        auc = roc_auc_score(y_test, y_pred_proba)\n",
    "        \n",
    "        meta_results[name] = {\n",
    "            'model': model,\n",
    "            'threshold': best_threshold,\n",
    "            'predictions_proba': y_pred_proba,\n",
    "            'predictions': y_pred_final,\n",
    "            'accuracy': accuracy,\n",
    "            'precision': precision,\n",
    "            'recall': recall,\n",
    "            'f1': f1,\n",
    "            'auc': auc\n",
    "        }\n",
    "        \n",
    "        meets_targets = precision >= 0.85 and f1 >= 0.80\n",
    "        print(f\"   {name}: F1={f1:.4f}, Prec={precision:.4f} {'Good' if meets_targets else 'Not good'}\")\n",
    "        \n",
    "        if f1 > best_meta_f1:\n",
    "            best_meta_f1 = f1\n",
    "            best_meta_model = model\n",
    "            \n",
    "    except Exception as e:\n",
    "        print(f\"   {name}: Failed - {str(e)}\")\n"
   ]
  },
  {
   "cell_type": "code",
   "execution_count": 9,
   "id": "2700d746",
   "metadata": {},
   "outputs": [
    {
     "name": "stdout",
     "output_type": "stream",
     "text": [
      "Structured Only      0.9723   0.9518     0.9937   Good\n",
      "Text Only            0.8788   0.9457     0.8208   Good\n",
      "Image Only           0.8448   0.9915     0.7358   Good\n"
     ]
    }
   ],
   "source": [
    "# Individual models\n",
    "if structured_results:\n",
    "    s_meets = structured_results['metrics']['precision'] >= 0.85 and structured_results['metrics']['f1'] >= 0.80\n",
    "    print(f\"{'Structured Only':<20} {structured_results['metrics']['f1']:<8.4f} {structured_results['metrics']['precision']:<10.4f} {structured_results['metrics']['recall']:<8.4f} {'Good' if s_meets else 'Not good'}\")\n",
    "\n",
    "if text_results:\n",
    "    t_meets = text_results['metrics']['precision'] >= 0.85 and text_results['metrics']['f1'] >= 0.80\n",
    "    print(f\"{'Text Only':<20} {text_results['metrics']['f1']:<8.4f} {text_results['metrics']['precision']:<10.4f} {text_results['metrics']['recall']:<8.4f} {'Good' if t_meets else 'Not good'}\")\n",
    "\n",
    "if image_results:\n",
    "    i_meets = image_results['metrics']['precision'] >= 0.85 and image_results['metrics']['f1'] >= 0.80\n",
    "    print(f\"{'Image Only':<20} {image_results['metrics']['f1']:<8.4f} {image_results['metrics']['precision']:<10.4f} {image_results['metrics']['recall']:<8.4f} {'Good' if i_meets else 'Not good'}\")"
   ]
  },
  {
   "cell_type": "code",
   "execution_count": 10,
   "id": "8753a4bb",
   "metadata": {},
   "outputs": [
    {
     "name": "stdout",
     "output_type": "stream",
     "text": [
      "Weighted Ensemble    0.9442   0.9579     0.9308   Good\n",
      "Meta-LogisticRegression 0.9768   0.9605     0.9937   Good\n",
      "Meta-RandomForest    0.9798   0.9664     0.9937   Good\n",
      "Meta-XGBoost         0.9752   0.9632     0.9874   Good\n"
     ]
    }
   ],
   "source": [
    "# Ensemble approaches\n",
    "ensemble_meets = best_result['precision'] >= 0.85 and best_result['f1'] >= 0.80\n",
    "print(f\"{'Weighted Ensemble':<20} {best_result['f1']:<8.4f} {best_result['precision']:<10.4f} {best_result['recall']:<8.4f} {'Good' if ensemble_meets else 'Not good'}\")\n",
    "\n",
    "# Meta-classifiers\n",
    "for name, result in meta_results.items():\n",
    "    meta_meets = result['precision'] >= 0.85 and result['f1'] >= 0.80\n",
    "    print(f\"{f'Meta-{name}':<20} {result['f1']:<8.4f} {result['precision']:<10.4f} {result['recall']:<8.4f} {'Good' if meta_meets else 'Not good'}\")\n",
    "\n",
    "# Select best overall approach\n",
    "all_approaches = [\n",
    "    ('Weighted Ensemble', best_result),\n",
    "    *[(f'Meta-{name}', result) for name, result in meta_results.items()]\n",
    "]"
   ]
  },
  {
   "cell_type": "code",
   "execution_count": 11,
   "id": "d9017942",
   "metadata": {},
   "outputs": [
    {
     "name": "stdout",
     "output_type": "stream",
     "text": [
      "\n",
      " SELECTED APPROACH: Meta-RandomForest\n",
      "   Final F1: 0.9798\n",
      "   Final Precision: 0.9664\n",
      "   Final Recall: 0.9937\n"
     ]
    }
   ],
   "source": [
    "# Prioritize approaches that meet precision target, then F1\n",
    "qualified_approaches = [(name, result) for name, result in all_approaches \n",
    "                       if result['precision'] >= 0.85]\n",
    "\n",
    "if qualified_approaches:\n",
    "    final_name, final_result = max(qualified_approaches, key=lambda x: x[1]['f1'])\n",
    "    print(f\"\\n SELECTED APPROACH: {final_name}\")\n",
    "else:\n",
    "    final_name, final_result = max(all_approaches, key=lambda x: x[1]['f1'])\n",
    "    print(f\"\\n BEST AVAILABLE: {final_name} (precision target not met)\")\n",
    "\n",
    "print(f\"   Final F1: {final_result['f1']:.4f}\")\n",
    "print(f\"   Final Precision: {final_result['precision']:.4f}\")\n",
    "print(f\"   Final Recall: {final_result['recall']:.4f}\")"
   ]
  },
  {
   "cell_type": "code",
   "execution_count": 12,
   "id": "3fbd842d",
   "metadata": {},
   "outputs": [
    {
     "name": "stdout",
     "output_type": "stream",
     "text": [
      "   Approach: Meta-classifier (randomforest)\n"
     ]
    },
    {
     "data": {
      "text/plain": [
       "['../models/ensemble_model.pkl']"
      ]
     },
     "execution_count": 12,
     "metadata": {},
     "output_type": "execute_result"
    }
   ],
   "source": [
    "# Save final ensemble model\n",
    "models_dir = Path(\"../models\")\n",
    "models_dir.mkdir(exist_ok=True)\n",
    "\n",
    "if 'Meta-' in final_name:\n",
    "    # Save meta-classifier\n",
    "    model_name = final_name.replace('Meta-', '').lower()\n",
    "    final_model = meta_results[final_name.replace('Meta-', '')]['model']\n",
    "    \n",
    "    ensemble_model_data = {\n",
    "        'approach': 'meta_classifier',\n",
    "        'model': final_model,\n",
    "        'threshold': final_result['threshold'],\n",
    "        'feature_names': feature_names,\n",
    "        'weights': None,\n",
    "        'performance': {\n",
    "            'accuracy': final_result['accuracy'],\n",
    "            'precision': final_result['precision'],\n",
    "            'recall': final_result['recall'],\n",
    "            'f1': final_result['f1'],\n",
    "            'auc': final_result.get('auc', 0.0)\n",
    "        },\n",
    "        'train_features': X_ensemble_train,\n",
    "        'test_predictions': final_result['predictions_proba']\n",
    "    }\n",
    "    \n",
    "    print(f\"   Approach: Meta-classifier ({model_name})\")\n",
    "    \n",
    "else:\n",
    "    # Save weighted ensemble\n",
    "    ensemble_model_data = {\n",
    "        'approach': 'weighted_ensemble',\n",
    "        'model': None,  # No trained model, just weights\n",
    "        'threshold': final_result['threshold'],\n",
    "        'feature_names': feature_names,\n",
    "        'weights': best_weights,\n",
    "        'performance': final_result,\n",
    "        'train_features': X_ensemble_train,\n",
    "        'test_predictions': final_result['predictions_proba']\n",
    "    }\n",
    "    \n",
    "    print(f\"   Approach: Weighted ensemble {best_weights}\")\n",
    "\n",
    "# Save the ensemble model\n",
    "joblib.dump(ensemble_model_data, models_dir / \"ensemble_model.pkl\")"
   ]
  },
  {
   "cell_type": "code",
   "execution_count": 13,
   "id": "6b1bdd82",
   "metadata": {},
   "outputs": [
    {
     "data": {
      "image/png": "[encoded data removed]",
      "text/plain": [
       "<Figure size 1500x1200 with 5 Axes>"
      ]
     },
     "metadata": {},
     "output_type": "display_data"
    }
   ],
   "source": [
    "# Create visualization\n",
    "fig, ((ax1, ax2), (ax3, ax4)) = plt.subplots(2, 2, figsize=(15, 12))\n",
    "\n",
    "# Performance comparison\n",
    "approaches = ['Structured', 'Text', 'Image', 'Ensemble']\n",
    "f1_scores = []\n",
    "precisions = []\n",
    "\n",
    "if structured_results:\n",
    "    f1_scores.append(structured_results['metrics']['f1'])\n",
    "    precisions.append(structured_results['metrics']['precision'])\n",
    "else:\n",
    "    f1_scores.append(0)\n",
    "    precisions.append(0)\n",
    "\n",
    "if text_results:\n",
    "    f1_scores.append(text_results['metrics']['f1'])\n",
    "    precisions.append(text_results['metrics']['precision'])\n",
    "else:\n",
    "    f1_scores.append(0)\n",
    "    precisions.append(0)\n",
    "    \n",
    "if image_results:\n",
    "    f1_scores.append(image_results['metrics']['f1'])\n",
    "    precisions.append(image_results['metrics']['precision'])\n",
    "else:\n",
    "    f1_scores.append(0)\n",
    "    precisions.append(0)\n",
    "\n",
    "f1_scores.append(final_result['f1'])\n",
    "precisions.append(final_result['precision'])\n",
    "\n",
    "x_pos = np.arange(len(approaches))\n",
    "width = 0.35\n",
    "\n",
    "ax1.bar(x_pos - width/2, f1_scores, width, label='F1-Score', alpha=0.8)\n",
    "ax1.bar(x_pos + width/2, precisions, width, label='Precision', alpha=0.8)\n",
    "ax1.axhline(y=0.80, color='r', linestyle='--', alpha=0.7, label='F1 Target')\n",
    "ax1.axhline(y=0.85, color='orange', linestyle='--', alpha=0.7, label='Precision Target')\n",
    "ax1.set_xlabel('Approach')\n",
    "ax1.set_ylabel('Score')\n",
    "ax1.set_title('Model Performance Comparison')\n",
    "ax1.set_xticks(x_pos)\n",
    "ax1.set_xticklabels(approaches, rotation=45)\n",
    "ax1.legend()\n",
    "ax1.grid(True, alpha=0.3)\n",
    "\n",
    "# Confusion matrix for final model\n",
    "y_pred_final = (final_result['predictions_proba'] >= final_result['threshold']).astype(int)\n",
    "cm = confusion_matrix(y_test, y_pred_final)\n",
    "sns.heatmap(cm, annot=True, fmt='d', ax=ax2, cmap='Blues')\n",
    "ax2.set_title(f'Confusion Matrix - {final_name}')\n",
    "ax2.set_xlabel('Predicted')\n",
    "ax2.set_ylabel('Actual')\n",
    "\n",
    "# Feature importance (if meta-classifier)\n",
    "if 'model' in final_result and final_result.get('model') and hasattr(final_result['model'], 'feature_importances_'):\n",
    "    importance_df = pd.DataFrame({\n",
    "        'Feature': feature_names,\n",
    "        'Importance': final_result['model'].feature_importances_\n",
    "    }).sort_values('Importance', ascending=True)\n",
    "    \n",
    "    ax3.barh(importance_df['Feature'], importance_df['Importance'])\n",
    "    ax3.set_title('Feature Importance in Ensemble')\n",
    "    ax3.set_xlabel('Importance')\n",
    "elif best_weights:\n",
    "    # Show weights for weighted ensemble\n",
    "    weights_df = pd.DataFrame({\n",
    "        'Feature': feature_names,\n",
    "        'Weight': best_weights\n",
    "    }).sort_values('Weight', ascending=True)\n",
    "    \n",
    "    ax3.barh(weights_df['Feature'], weights_df['Weight'])\n",
    "    ax3.set_title('Feature Weights in Ensemble')\n",
    "    ax3.set_xlabel('Weight')\n",
    "\n",
    "# ROC curve or prediction distribution\n",
    "prediction_probs = final_result['predictions_proba']\n",
    "ax4.hist(prediction_probs[y_test == 0], bins=30, alpha=0.7, label='Non-Duplicates', density=True)\n",
    "ax4.hist(prediction_probs[y_test == 1], bins=30, alpha=0.7, label='Duplicates', density=True)\n",
    "ax4.axvline(x=final_result['threshold'], color='red', linestyle='--', label=f'Threshold ({final_result[\"threshold\"]:.3f})')\n",
    "ax4.set_xlabel('Prediction Probability')\n",
    "ax4.set_ylabel('Density')\n",
    "ax4.set_title('Prediction Distribution')\n",
    "ax4.legend()\n",
    "ax4.grid(True, alpha=0.3)\n",
    "\n",
    "plt.tight_layout()\n",
    "plt.savefig('../data/processed/ensemble_model_results.png', dpi=150, bbox_inches='tight')\n",
    "plt.show()"
   ]
  },
  {
   "cell_type": "code",
   "execution_count": 14,
   "id": "f025b244",
   "metadata": {},
   "outputs": [
    {
     "name": "stdout",
     "output_type": "stream",
     "text": [
      "\n",
      " ENSEMBLE MODEL SAVED:\n",
      "   Model file: ../models/ensemble_model.pkl\n",
      "   Visualization: ../data/processed/ensemble_model_results.png\n",
      "   Ready for production API!\n",
      "\n",
      " TESTING SAVED MODEL:\n",
      "   Approach: meta_classifier\n",
      "   Features: ['structured_proba', 'text_similarity', 'image_similarity']\n",
      "   Threshold: 0.45000000000000007\n",
      "   Performance: F1=0.9798, Precision=0.9664\n"
     ]
    }
   ],
   "source": [
    "print(f\"\\n ENSEMBLE MODEL SAVED:\")\n",
    "print(f\"   Model file: ../models/ensemble_model.pkl\")\n",
    "print(f\"   Visualization: ../data/processed/ensemble_model_results.png\")\n",
    "print(f\"   Ready for production API!\")\n",
    "\n",
    "# Quick test of saved model\n",
    "print(f\"\\n TESTING SAVED MODEL:\")\n",
    "loaded_ensemble = joblib.load(\"../models/ensemble_model.pkl\")\n",
    "print(f\"   Approach: {loaded_ensemble['approach']}\")\n",
    "print(f\"   Features: {loaded_ensemble['feature_names']}\")\n",
    "print(f\"   Threshold: {loaded_ensemble['threshold']}\")\n",
    "print(f\"   Performance: F1={loaded_ensemble['performance']['f1']:.4f}, Precision={loaded_ensemble['performance']['precision']:.4f}\")\n"
   ]
  },
  {
   "cell_type": "code",
   "execution_count": null,
   "id": "7fb9143f",
   "metadata": {},
   "outputs": [],
   "source": []
  }
 ],
 "metadata": {
  "kernelspec": {
   "display_name": "real_estate_ml",
   "language": "python",
   "name": "python3"
  },
  "language_info": {
   "codemirror_mode": {
    "name": "ipython",
    "version": 3
   },
   "file_extension": ".py",
   "mimetype": "text/x-python",
   "name": "python",
   "nbconvert_exporter": "python",
   "pygments_lexer": "ipython3",
   "version": "3.11.12"
  }
 },
 "nbformat": 4,
 "nbformat_minor": 5
}
